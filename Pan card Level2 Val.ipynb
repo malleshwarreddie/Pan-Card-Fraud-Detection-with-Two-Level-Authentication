{
 "cells": [
  {
   "cell_type": "code",
   "execution_count": 1,
   "id": "45fb8b9f",
   "metadata": {},
   "outputs": [],
   "source": [
    "#pip install opencv-python"
   ]
  },
  {
   "cell_type": "code",
   "execution_count": 2,
   "id": "14464547",
   "metadata": {},
   "outputs": [],
   "source": [
    "#pip install pytesseract"
   ]
  },
  {
   "cell_type": "code",
   "execution_count": 39,
   "id": "2682ebee",
   "metadata": {},
   "outputs": [],
   "source": [
    "import pytesseract\n",
    "pytesseract.pytesseract.tesseract_cmd=r'C:\\Program Files\\Tesseract-OCR\\tesseract.exe'"
   ]
  },
  {
   "cell_type": "code",
   "execution_count": 40,
   "id": "c0704906",
   "metadata": {},
   "outputs": [],
   "source": [
    "import cv2"
   ]
  },
  {
   "cell_type": "code",
   "execution_count": 42,
   "id": "55a29c64",
   "metadata": {},
   "outputs": [],
   "source": [
    "img=cv2.imread(\"pan3.jpeg\")\n",
    "cv2.imshow('Result',img)\n",
    "cv2.waitKey(0)\n",
    "cv2.destroyAllWindows()"
   ]
  },
  {
   "cell_type": "code",
   "execution_count": 6,
   "id": "85355ac4",
   "metadata": {},
   "outputs": [
    {
     "name": "stdout",
     "output_type": "stream",
     "text": [
      "INCOMETAX DEPARTMENT GOVT. OF INDIA\n",
      "\n",
      "Tora aT ASAT TIS\n",
      "\n",
      "Permanent Account Number C\n",
      "\n",
      "BGYPJ0129A\n",
      "\n",
      "her's Name\n",
      "\n",
      "nied\n",
      "it / Signature\n",
      "\n",
      "\n"
     ]
    }
   ],
   "source": [
    "ocr_text_extraction=pytesseract.image_to_string(img)\n",
    "print(ocr_text_extraction)"
   ]
  },
  {
   "cell_type": "code",
   "execution_count": 7,
   "id": "ccac8081",
   "metadata": {},
   "outputs": [
    {
     "name": "stdout",
     "output_type": "stream",
     "text": [
      "['BGYPJ0129A']\n"
     ]
    }
   ],
   "source": [
    "pancard_number=[]\n",
    "for i in range (len(ocr_text_extraction)):\n",
    "    if ocr_text_extraction[i:i+4].isdigit():\n",
    "        pancard_number.append(ocr_text_extraction[i-5:i+5])\n",
    "print(pancard_number)"
   ]
  },
  {
   "cell_type": "code",
   "execution_count": 8,
   "id": "eb4c8819",
   "metadata": {},
   "outputs": [
    {
     "name": "stdout",
     "output_type": "stream",
     "text": [
      "BGYPJ0129A\n"
     ]
    }
   ],
   "source": [
    "for i in pancard_number:\n",
    "    alph = 0\n",
    "    num = 0\n",
    "    for j in range(len(i)):\n",
    "        if ord(i[j])>=65 and ord(i[j])<=90:\n",
    "            alph+=1\n",
    "        elif i[j].isdigit():\n",
    "            num+=1\n",
    "            \n",
    "    if alph==6 and num==4:\n",
    "        print(i)\n",
    "        final_pancardtext=i"
   ]
  },
  {
   "cell_type": "code",
   "execution_count": 9,
   "id": "12adc2ba",
   "metadata": {},
   "outputs": [],
   "source": [
    "#pip install mysql.connector"
   ]
  },
  {
   "cell_type": "code",
   "execution_count": 10,
   "id": "7379e044",
   "metadata": {},
   "outputs": [
    {
     "name": "stdout",
     "output_type": "stream",
     "text": [
      "<mysql.connector.connection_cext.CMySQLConnection object at 0x00000217D9E0ED70>\n"
     ]
    }
   ],
   "source": [
    "import mysql.connector\n",
    "\n",
    "mydb= mysql.connector.connect(\n",
    "    host=\"localhost\",\n",
    "    user=\"root\",\n",
    "    passwd=\"charan@2002\",\n",
    "    database=\"pancardnums\",\n",
    ")\n",
    "print(mydb)"
   ]
  },
  {
   "cell_type": "code",
   "execution_count": 11,
   "id": "ef3e53b4",
   "metadata": {},
   "outputs": [],
   "source": [
    "mycursor=mydb.cursor()"
   ]
  },
  {
   "cell_type": "code",
   "execution_count": 12,
   "id": "1211b462",
   "metadata": {},
   "outputs": [],
   "source": [
    "mycursor.execute(\"Show tables\")"
   ]
  },
  {
   "cell_type": "code",
   "execution_count": 13,
   "id": "5ed63d82",
   "metadata": {},
   "outputs": [
    {
     "name": "stdout",
     "output_type": "stream",
     "text": [
      "('cards',)\n"
     ]
    }
   ],
   "source": [
    "for tb in mycursor:\n",
    "    print(tb)"
   ]
  },
  {
   "cell_type": "code",
   "execution_count": 14,
   "id": "d2e8d1de",
   "metadata": {},
   "outputs": [],
   "source": [
    "sqlformula=\"insert into cards (nums) Values (%s)\""
   ]
  },
  {
   "cell_type": "code",
   "execution_count": 15,
   "id": "4e4c9884",
   "metadata": {},
   "outputs": [],
   "source": [
    "mydb.commit()"
   ]
  },
  {
   "cell_type": "code",
   "execution_count": 16,
   "id": "47919583",
   "metadata": {},
   "outputs": [],
   "source": [
    "mycursor.execute(\"select * from cards\")"
   ]
  },
  {
   "cell_type": "code",
   "execution_count": 17,
   "id": "506027fe",
   "metadata": {},
   "outputs": [],
   "source": [
    "#Fetch using above statement.\n",
    "database_results=mycursor.fetchall()"
   ]
  },
  {
   "cell_type": "code",
   "execution_count": 18,
   "id": "7af26250",
   "metadata": {},
   "outputs": [
    {
     "name": "stdout",
     "output_type": "stream",
     "text": [
      "['AFUPM2304K', 'DNPJB1589C', 'AREPP4615K', 'BGYPJ0129A', 'AALAE0983J', 'ABVGA4002O', 'ADGPD2907L', 'ADWJJ1414O', 'AEZJI0104B', 'AFNHU3684J', 'AFPLH2619Y', 'AFRFK4951W', 'AFUPM2304K', 'AGFGL3227J', 'AGMGN6216N', 'AGPCB3705U', 'AGYFX8318C', 'AHMFE5830H', 'AHZBZ1236L', 'AIGLA2870O', 'AJMPH5834T', 'AJSBZ0111T', 'AKPFY6753F', 'AKVFC2842O', 'AMRBY8701I', 'ANJGQ3542G', 'ANVGQ8532K', 'AQBGZ2491H', 'ASKJY8615Q', 'ATCFS7216Z', 'ATKTM1911Z', 'ATYBO8532A', 'AVBCO9615A', 'AVYTW6988N', 'AWBFH0855D', 'AXLJJ3288Y', 'AYIFY8802N', 'AYOFH0376H', 'AZQLG2549R', 'AZXCD6401P', 'BADCM0193J', 'BAFJG1224L', 'BAHBC2651K', 'BBBHB3284Z', 'BDSGY5849M', 'BDUFI3136F', 'BFHFN0655U', 'BFYCD2503L', 'BHIFZ4171I', 'BKIFI7856M', 'BKUFW7692K', 'BMDBX7527Y', 'BPYCG3194E', 'BQLPQ3990W', 'CAHHR6397B', 'CAHLI6315Q', 'CANFS9331Q', 'CBEGZ6088H', 'CEHHH7251C', 'CELJN5321Z', 'CFUTL2818U', 'CFVFH6424R', 'CGLHD2910L', 'CGWCP6015P', 'DAJPC4150P', 'DATJB6045X', 'DBEPC5739P', 'DBUFV2863Y', 'DDWCH0856B', 'DEIGD3182O', 'DERGW2192R', 'DFFLO5270K', 'DFMGF7658G', 'DFVFW9034B', 'EAMJV3437B', 'EARFF0505I', 'EBOFR3681M', 'EBUBA5431W', 'EDHGF7318Z', 'EDPLF6132X', 'EFVBV2716O', 'EGDAY9131M', 'EGDGS9060J', 'EGRGY2315B', 'FBGTJ8256Q', 'FBSGM0739Q', 'FBSGS9069R', 'FFFBS0782N', 'FFRJG3717T', 'FGVFS6429L', 'FHFBT8742H', 'FHSTW1260T', 'FJACB8239W', 'FJECZ5248L', 'HXJDA2351R', 'YMKLW7692Z', 'PSVRY5734T', 'JCFMB9482N', 'WHTXB7526K', 'LGVFI0413M', 'NQOPD6309L', 'ERIUV8194S', 'BCKWZ2936G', 'FBSGW0825Q', 'HXJDA2351R', 'YMKLW7692Z', 'PSVRY5734T', 'JCFMB9482N', 'WHTXB7526K', 'LGVFI0413M', 'NQOPD6309L', 'ERIUV8194S', 'BCKWZ2936G', 'FBSGW0825Q', 'HXJDA2351R', 'YMKLW7692Z', 'PSVRY5734T', 'JCFMB9482N', 'WHTXB7526K', 'LGVFI0413M', 'NQOPD6309L', 'ERIUV8194S', 'BCKWZ2936G', 'FBSGW0825Q', 'HXJDA2351R', 'YMKLW7692Z', 'PSVRY5734T', 'JCFMB9482N', 'WHTXB7526K', 'LGVFI0413M', 'NQOPD6309L', 'ERIUV8194S', 'BCKWZ2936G', 'FBSGW0825Q', 'HXJDA2351R', 'YMKLW7692Z', 'PSVRY5734T', 'JCFMB9482N', 'WHTXB7526K', 'LGVFI0413M', 'NQOPD6309L', 'ERIUV8194S', 'BCKWZ2936G', 'FBSGW0825Q', 'HXJDA2351R', 'YMKLW7692Z', 'PSVRY5734T', 'JCFMB9482N', 'WHTXB7526K', 'LGVFI0413M', 'NQOPD6309L', 'ERIUV8194S', 'BCKWZ2936G', 'FBSGW0825Q', 'HXJDA2351R', 'YMKLW7692Z', 'PSVRY5734T', 'JCFMB9482N', 'WHTXB7526K', 'LGVFI0413M', 'NQOPD6309L', 'ERIUV8194S', 'BCKWZ2936G', 'FBSGW0825Q', 'HXJDA2351R', 'YMKLW7692Z', 'PSVRY5734T', 'FBSGW0825Q', 'FCSHX0936R', 'GDTIY1047S', 'HEUJZ2158T', 'IFVKA3269U', 'JGWLB4370V', 'KHXML5481W', 'LINYM6592X', 'MJONN7703Y', 'NKPOM8814Z', 'OLQPN9925A', 'PMRQO0036B', 'QNSRP1147C', 'ROTSQ2258D', 'SPURT3369E', 'TQVSU4470F', 'URWTV5581G', 'VSYUW6692H', 'WTZVX7703I', 'XUAWY8814J', 'YVBXZ9925K', 'ZWCYA0036L', 'AXDZB1147M', 'BYEAC2258N', 'CZFBD3369O', 'DAGCE4470P', 'EBHDF5581Q', 'FCIEG6692R', 'GDIHH7703S', 'HEJIJ8814T', 'IFKJK9925U', 'JGLKL0036V', 'KHMLM1147W', 'LINMN2258X', 'MJNNO3369Y', 'NKOOP4470Z', 'OLPPQ5581A', 'PMRQR6692B', 'QNSRS7703C', 'ROSTS8814D', 'SPUTT9925E', 'TQVUU0036F', 'URWVV1147G', 'VSYWW2258H', 'WTZXZ3369I', 'XUA0A4470J', 'YVB1B5581K', 'ZWC2C6692L', 'AXD3D7703M', 'BYE4E8814N', 'CZF5F9925O', 'DAG6G0036P', 'EBH7H1147Q', 'FCI8I2258R', 'GDI9J3369S', 'HEJ0K4470T', 'IFK1L5581U', 'JGL2M6692V', 'KHMLN7703W', 'LIN0O8814X', 'MJO1P9925Y', 'NKP2Q0036Z', 'OLQ3R1147A', 'PMR4S2258B', 'QNS5T3369C', 'ROTSU4470D', 'SPURV5581E', 'TQVSW6692F', 'URWTX7703G', 'VSYUY8814H']\n"
     ]
    }
   ],
   "source": [
    "listoftuple_tolist=[]\n",
    "for i in database_results:\n",
    "    s = list(i)\n",
    "    listoftuple_tolist.append(s[0])\n",
    "database_results = listoftuple_tolist\n",
    "print(database_results)"
   ]
  },
  {
   "cell_type": "code",
   "execution_count": 19,
   "id": "de629802",
   "metadata": {},
   "outputs": [
    {
     "name": "stdout",
     "output_type": "stream",
     "text": [
      "PanCard Data is verified\n"
     ]
    }
   ],
   "source": [
    "if final_pancardtext in database_results:\n",
    "    print(\"PanCard Data is verified\")\n",
    "else:\n",
    "    print(\"Doesnot match with DB\")"
   ]
  },
  {
   "cell_type": "code",
   "execution_count": null,
   "id": "acf5f630",
   "metadata": {},
   "outputs": [],
   "source": []
  }
 ],
 "metadata": {
  "kernelspec": {
   "display_name": "Python 3 (ipykernel)",
   "language": "python",
   "name": "python3"
  },
  "language_info": {
   "codemirror_mode": {
    "name": "ipython",
    "version": 3
   },
   "file_extension": ".py",
   "mimetype": "text/x-python",
   "name": "python",
   "nbconvert_exporter": "python",
   "pygments_lexer": "ipython3",
   "version": "3.10.9"
  }
 },
 "nbformat": 4,
 "nbformat_minor": 5
}
